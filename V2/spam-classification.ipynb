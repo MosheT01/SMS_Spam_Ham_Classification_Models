{
 "cells": [
  {
   "cell_type": "code",
   "execution_count": 2,
   "id": "c64666e9",
   "metadata": {
    "execution": {
     "iopub.execute_input": "2022-08-16T02:14:35.194734Z",
     "iopub.status.busy": "2022-08-16T02:14:35.194028Z",
     "iopub.status.idle": "2022-08-16T02:14:36.797868Z",
     "shell.execute_reply": "2022-08-16T02:14:36.796086Z"
    },
    "papermill": {
     "duration": 1.620006,
     "end_time": "2022-08-16T02:14:36.801589",
     "exception": false,
     "start_time": "2022-08-16T02:14:35.181583",
     "status": "completed"
    },
    "tags": []
   },
   "outputs": [],
   "source": [
    "import numpy as np \n",
    "import pandas as pd \n",
    "import seaborn as sns \n",
    "import matplotlib.pyplot as plt\n",
    "import os\n",
    "from sklearn.feature_extraction.text import TfidfVectorizer"
   ]
  },
  {
   "cell_type": "code",
   "execution_count": 3,
   "id": "fdd37666",
   "metadata": {
    "execution": {
     "iopub.execute_input": "2022-08-16T02:14:36.822590Z",
     "iopub.status.busy": "2022-08-16T02:14:36.821136Z",
     "iopub.status.idle": "2022-08-16T02:14:37.399924Z",
     "shell.execute_reply": "2022-08-16T02:14:37.398639Z"
    },
    "papermill": {
     "duration": 0.592227,
     "end_time": "2022-08-16T02:14:37.402901",
     "exception": false,
     "start_time": "2022-08-16T02:14:36.810674",
     "status": "completed"
    },
    "tags": []
   },
   "outputs": [],
   "source": [
    "dataset = pd.read_csv(\"./spam.csv\")"
   ]
  },
  {
   "cell_type": "code",
   "execution_count": 4,
   "id": "09bb7a61",
   "metadata": {
    "execution": {
     "iopub.execute_input": "2022-08-16T02:14:37.420458Z",
     "iopub.status.busy": "2022-08-16T02:14:37.419764Z",
     "iopub.status.idle": "2022-08-16T02:14:37.444588Z",
     "shell.execute_reply": "2022-08-16T02:14:37.442437Z"
    },
    "papermill": {
     "duration": 0.038909,
     "end_time": "2022-08-16T02:14:37.449236",
     "exception": false,
     "start_time": "2022-08-16T02:14:37.410327",
     "status": "completed"
    },
    "tags": []
   },
   "outputs": [
    {
     "data": {
      "text/html": [
       "<div>\n",
       "<style scoped>\n",
       "    .dataframe tbody tr th:only-of-type {\n",
       "        vertical-align: middle;\n",
       "    }\n",
       "\n",
       "    .dataframe tbody tr th {\n",
       "        vertical-align: top;\n",
       "    }\n",
       "\n",
       "    .dataframe thead th {\n",
       "        text-align: right;\n",
       "    }\n",
       "</style>\n",
       "<table border=\"1\" class=\"dataframe\">\n",
       "  <thead>\n",
       "    <tr style=\"text-align: right;\">\n",
       "      <th></th>\n",
       "      <th>text</th>\n",
       "      <th>target</th>\n",
       "    </tr>\n",
       "  </thead>\n",
       "  <tbody>\n",
       "    <tr>\n",
       "      <th>0</th>\n",
       "      <td>From ilug-admin@linux.ie Mon Jul 29 11:28:02 2...</td>\n",
       "      <td>0</td>\n",
       "    </tr>\n",
       "    <tr>\n",
       "      <th>1</th>\n",
       "      <td>From gort44@excite.com Mon Jun 24 17:54:21 200...</td>\n",
       "      <td>1</td>\n",
       "    </tr>\n",
       "    <tr>\n",
       "      <th>2</th>\n",
       "      <td>From fork-admin@xent.com Mon Jul 29 11:39:57 2...</td>\n",
       "      <td>1</td>\n",
       "    </tr>\n",
       "    <tr>\n",
       "      <th>3</th>\n",
       "      <td>From dcm123@btamail.net.cn Mon Jun 24 17:49:23...</td>\n",
       "      <td>1</td>\n",
       "    </tr>\n",
       "    <tr>\n",
       "      <th>4</th>\n",
       "      <td>From ilug-admin@linux.ie Mon Aug 19 11:02:47 2...</td>\n",
       "      <td>0</td>\n",
       "    </tr>\n",
       "  </tbody>\n",
       "</table>\n",
       "</div>"
      ],
      "text/plain": [
       "                                                text  target\n",
       "0  From ilug-admin@linux.ie Mon Jul 29 11:28:02 2...       0\n",
       "1  From gort44@excite.com Mon Jun 24 17:54:21 200...       1\n",
       "2  From fork-admin@xent.com Mon Jul 29 11:39:57 2...       1\n",
       "3  From dcm123@btamail.net.cn Mon Jun 24 17:49:23...       1\n",
       "4  From ilug-admin@linux.ie Mon Aug 19 11:02:47 2...       0"
      ]
     },
     "execution_count": 4,
     "metadata": {},
     "output_type": "execute_result"
    }
   ],
   "source": [
    "dataset.head()"
   ]
  },
  {
   "cell_type": "code",
   "execution_count": 4,
   "id": "2aeb2368",
   "metadata": {
    "execution": {
     "iopub.execute_input": "2022-08-16T02:14:37.467665Z",
     "iopub.status.busy": "2022-08-16T02:14:37.467164Z",
     "iopub.status.idle": "2022-08-16T02:14:37.476483Z",
     "shell.execute_reply": "2022-08-16T02:14:37.475163Z"
    },
    "papermill": {
     "duration": 0.021368,
     "end_time": "2022-08-16T02:14:37.479785",
     "exception": false,
     "start_time": "2022-08-16T02:14:37.458417",
     "status": "completed"
    },
    "tags": []
   },
   "outputs": [],
   "source": [
    "data, target = dataset.text, dataset.target"
   ]
  },
  {
   "cell_type": "code",
   "execution_count": 5,
   "id": "566feecb",
   "metadata": {
    "execution": {
     "iopub.execute_input": "2022-08-16T02:14:37.499215Z",
     "iopub.status.busy": "2022-08-16T02:14:37.498426Z",
     "iopub.status.idle": "2022-08-16T02:14:37.506388Z",
     "shell.execute_reply": "2022-08-16T02:14:37.504832Z"
    },
    "papermill": {
     "duration": 0.021326,
     "end_time": "2022-08-16T02:14:37.509557",
     "exception": false,
     "start_time": "2022-08-16T02:14:37.488231",
     "status": "completed"
    },
    "tags": []
   },
   "outputs": [
    {
     "data": {
      "text/plain": [
       "(5796,)"
      ]
     },
     "execution_count": 5,
     "metadata": {},
     "output_type": "execute_result"
    }
   ],
   "source": [
    "data.shape"
   ]
  },
  {
   "cell_type": "code",
   "execution_count": 6,
   "id": "78b1ab1b",
   "metadata": {
    "execution": {
     "iopub.execute_input": "2022-08-16T02:14:37.527563Z",
     "iopub.status.busy": "2022-08-16T02:14:37.526942Z",
     "iopub.status.idle": "2022-08-16T02:14:37.534851Z",
     "shell.execute_reply": "2022-08-16T02:14:37.533480Z"
    },
    "papermill": {
     "duration": 0.021045,
     "end_time": "2022-08-16T02:14:37.537917",
     "exception": false,
     "start_time": "2022-08-16T02:14:37.516872",
     "status": "completed"
    },
    "tags": []
   },
   "outputs": [
    {
     "data": {
      "text/plain": [
       "(5796,)"
      ]
     },
     "execution_count": 6,
     "metadata": {},
     "output_type": "execute_result"
    }
   ],
   "source": [
    "target.shape"
   ]
  },
  {
   "cell_type": "code",
   "execution_count": 7,
   "id": "e77c5e31",
   "metadata": {
    "execution": {
     "iopub.execute_input": "2022-08-16T02:14:37.557238Z",
     "iopub.status.busy": "2022-08-16T02:14:37.556062Z",
     "iopub.status.idle": "2022-08-16T02:14:37.589967Z",
     "shell.execute_reply": "2022-08-16T02:14:37.587305Z"
    },
    "papermill": {
     "duration": 0.04853,
     "end_time": "2022-08-16T02:14:37.594206",
     "exception": false,
     "start_time": "2022-08-16T02:14:37.545676",
     "status": "completed"
    },
    "tags": []
   },
   "outputs": [
    {
     "name": "stdout",
     "output_type": "stream",
     "text": [
      "<class 'pandas.core.frame.DataFrame'>\n",
      "RangeIndex: 5796 entries, 0 to 5795\n",
      "Data columns (total 2 columns):\n",
      " #   Column  Non-Null Count  Dtype \n",
      "---  ------  --------------  ----- \n",
      " 0   text    5796 non-null   object\n",
      " 1   target  5796 non-null   int64 \n",
      "dtypes: int64(1), object(1)\n",
      "memory usage: 90.7+ KB\n"
     ]
    }
   ],
   "source": [
    "dataset.info()"
   ]
  },
  {
   "cell_type": "code",
   "execution_count": 8,
   "id": "dd5f4d1e",
   "metadata": {
    "execution": {
     "iopub.execute_input": "2022-08-16T02:14:37.612124Z",
     "iopub.status.busy": "2022-08-16T02:14:37.611644Z",
     "iopub.status.idle": "2022-08-16T02:14:37.619152Z",
     "shell.execute_reply": "2022-08-16T02:14:37.617606Z"
    },
    "papermill": {
     "duration": 0.019894,
     "end_time": "2022-08-16T02:14:37.621799",
     "exception": false,
     "start_time": "2022-08-16T02:14:37.601905",
     "status": "completed"
    },
    "tags": []
   },
   "outputs": [],
   "source": [
    "import matplotlib as mpl \n",
    "import matplotlib.pyplot as plt"
   ]
  },
  {
   "cell_type": "code",
   "execution_count": 9,
   "id": "d05fdd54",
   "metadata": {
    "execution": {
     "iopub.execute_input": "2022-08-16T02:14:37.641459Z",
     "iopub.status.busy": "2022-08-16T02:14:37.640029Z",
     "iopub.status.idle": "2022-08-16T02:14:37.737972Z",
     "shell.execute_reply": "2022-08-16T02:14:37.736193Z"
    },
    "papermill": {
     "duration": 0.111256,
     "end_time": "2022-08-16T02:14:37.741284",
     "exception": false,
     "start_time": "2022-08-16T02:14:37.630028",
     "status": "completed"
    },
    "tags": []
   },
   "outputs": [],
   "source": [
    "from sklearn.model_selection import StratifiedShuffleSplit\n",
    "sss = StratifiedShuffleSplit(n_splits=1, test_size=0.2, random_state=0)\n",
    "\n",
    "for train_index, test_index in sss.split(data, target):\n",
    "    train_X, test_X = data.loc[train_index], data.loc[test_index]\n",
    "    train_y, test_y = target.loc[train_index], target.loc[test_index]\n",
    "    \n"
   ]
  },
  {
   "cell_type": "code",
   "execution_count": 10,
   "id": "3b1a3243",
   "metadata": {
    "execution": {
     "iopub.execute_input": "2022-08-16T02:14:37.761354Z",
     "iopub.status.busy": "2022-08-16T02:14:37.760894Z",
     "iopub.status.idle": "2022-08-16T02:14:37.766500Z",
     "shell.execute_reply": "2022-08-16T02:14:37.765083Z"
    },
    "papermill": {
     "duration": 0.019899,
     "end_time": "2022-08-16T02:14:37.769533",
     "exception": false,
     "start_time": "2022-08-16T02:14:37.749634",
     "status": "completed"
    },
    "tags": []
   },
   "outputs": [],
   "source": [
    "from sklearn.model_selection import cross_val_score, cross_val_predict\n",
    "\n"
   ]
  },
  {
   "cell_type": "code",
   "execution_count": 11,
   "id": "253daa6c",
   "metadata": {
    "execution": {
     "iopub.execute_input": "2022-08-16T02:14:37.789026Z",
     "iopub.status.busy": "2022-08-16T02:14:37.787837Z",
     "iopub.status.idle": "2022-08-16T02:14:37.992205Z",
     "shell.execute_reply": "2022-08-16T02:14:37.990773Z"
    },
    "papermill": {
     "duration": 0.217454,
     "end_time": "2022-08-16T02:14:37.995692",
     "exception": false,
     "start_time": "2022-08-16T02:14:37.778238",
     "status": "completed"
    },
    "tags": []
   },
   "outputs": [],
   "source": [
    "from sklearn.tree import DecisionTreeClassifier"
   ]
  },
  {
   "cell_type": "code",
   "execution_count": 12,
   "id": "65710710",
   "metadata": {
    "execution": {
     "iopub.execute_input": "2022-08-16T02:14:38.015662Z",
     "iopub.status.busy": "2022-08-16T02:14:38.014372Z",
     "iopub.status.idle": "2022-08-16T02:14:38.031958Z",
     "shell.execute_reply": "2022-08-16T02:14:38.030901Z"
    },
    "papermill": {
     "duration": 0.032527,
     "end_time": "2022-08-16T02:14:38.036898",
     "exception": false,
     "start_time": "2022-08-16T02:14:38.004371",
     "status": "completed"
    },
    "tags": []
   },
   "outputs": [
    {
     "name": "stdout",
     "output_type": "stream",
     "text": [
      "<class 'pandas.core.frame.DataFrame'>\n",
      "RangeIndex: 5796 entries, 0 to 5795\n",
      "Data columns (total 2 columns):\n",
      " #   Column  Non-Null Count  Dtype \n",
      "---  ------  --------------  ----- \n",
      " 0   text    5796 non-null   object\n",
      " 1   target  5796 non-null   int64 \n",
      "dtypes: int64(1), object(1)\n",
      "memory usage: 90.7+ KB\n"
     ]
    }
   ],
   "source": [
    "dataset.info()"
   ]
  },
  {
   "cell_type": "code",
   "execution_count": 13,
   "id": "8a3c4167",
   "metadata": {
    "execution": {
     "iopub.execute_input": "2022-08-16T02:14:38.058163Z",
     "iopub.status.busy": "2022-08-16T02:14:38.057134Z",
     "iopub.status.idle": "2022-08-16T02:15:00.546774Z",
     "shell.execute_reply": "2022-08-16T02:15:00.545192Z"
    },
    "papermill": {
     "duration": 22.504056,
     "end_time": "2022-08-16T02:15:00.550330",
     "exception": false,
     "start_time": "2022-08-16T02:14:38.046274",
     "status": "completed"
    },
    "tags": []
   },
   "outputs": [],
   "source": [
    "vect = TfidfVectorizer(min_df=5, ngram_range=(1,3)).fit(train_X)\n",
    "X_train_vectorized = vect.transform(train_X)\n"
   ]
  },
  {
   "cell_type": "code",
   "execution_count": 14,
   "id": "303ac48d",
   "metadata": {
    "execution": {
     "iopub.execute_input": "2022-08-16T02:15:00.567850Z",
     "iopub.status.busy": "2022-08-16T02:15:00.567332Z",
     "iopub.status.idle": "2022-08-16T02:15:05.711900Z",
     "shell.execute_reply": "2022-08-16T02:15:05.710662Z"
    },
    "papermill": {
     "duration": 5.15742,
     "end_time": "2022-08-16T02:15:05.715375",
     "exception": false,
     "start_time": "2022-08-16T02:15:00.557955",
     "status": "completed"
    },
    "tags": []
   },
   "outputs": [],
   "source": [
    "def add_feature(X, feature_to_add):\n",
    "   \n",
    "    from scipy.sparse import csr_matrix, hstack\n",
    "    return hstack([X, csr_matrix(feature_to_add).T], 'csr')\n",
    " \n",
    " \n",
    "\n",
    "add_length=train_X.str.len()\n",
    "add_digits=train_X.str.count(r'\\d')\n",
    "add_dollars=train_X.str.count(r'\\$')\n",
    "add_characters=train_X.str.count(r'\\W')\n",
    " \n",
    "X_train_transformed = add_feature(X_train_vectorized , [add_length, add_digits,  add_dollars, add_characters])\n",
    " \n",
    "\n",
    "add_length_t=test_X.str.len()\n",
    "add_digits_t=test_X.str.count(r'\\d')\n",
    "add_dollars_t=test_X.str.count(r'\\$')\n",
    "add_characters_t=test_X.str.count(r'\\W')\n",
    " \n",
    " \n",
    "X_test_transformed = add_feature(vect.transform(test_X), [add_length_t, add_digits_t,  add_dollars_t, add_characters_t])"
   ]
  },
  {
   "cell_type": "code",
   "execution_count": 15,
   "id": "0c4f9631",
   "metadata": {
    "execution": {
     "iopub.execute_input": "2022-08-16T02:15:05.736195Z",
     "iopub.status.busy": "2022-08-16T02:15:05.735162Z",
     "iopub.status.idle": "2022-08-16T02:15:05.820471Z",
     "shell.execute_reply": "2022-08-16T02:15:05.818661Z"
    },
    "papermill": {
     "duration": 0.098734,
     "end_time": "2022-08-16T02:15:05.824361",
     "exception": false,
     "start_time": "2022-08-16T02:15:05.725627",
     "status": "completed"
    },
    "tags": []
   },
   "outputs": [],
   "source": [
    "from sklearn.ensemble import RandomForestClassifier"
   ]
  },
  {
   "cell_type": "code",
   "execution_count": 16,
   "id": "cbd60528",
   "metadata": {
    "execution": {
     "iopub.execute_input": "2022-08-16T02:15:05.845114Z",
     "iopub.status.busy": "2022-08-16T02:15:05.844632Z",
     "iopub.status.idle": "2022-08-16T02:15:17.038497Z",
     "shell.execute_reply": "2022-08-16T02:15:17.036733Z"
    },
    "papermill": {
     "duration": 11.208672,
     "end_time": "2022-08-16T02:15:17.042102",
     "exception": false,
     "start_time": "2022-08-16T02:15:05.833430",
     "status": "completed"
    },
    "tags": []
   },
   "outputs": [],
   "source": [
    "forest_clf = RandomForestClassifier(random_state = 42)\n",
    "y_probas_forest = cross_val_predict(forest_clf , X_train_transformed , train_y , cv = 3 , method = 'predict_proba')"
   ]
  },
  {
   "cell_type": "code",
   "execution_count": 17,
   "id": "902e0ce5",
   "metadata": {
    "execution": {
     "iopub.execute_input": "2022-08-16T02:15:17.061891Z",
     "iopub.status.busy": "2022-08-16T02:15:17.061387Z",
     "iopub.status.idle": "2022-08-16T02:15:17.068373Z",
     "shell.execute_reply": "2022-08-16T02:15:17.066625Z"
    },
    "papermill": {
     "duration": 0.021068,
     "end_time": "2022-08-16T02:15:17.071891",
     "exception": false,
     "start_time": "2022-08-16T02:15:17.050823",
     "status": "completed"
    },
    "tags": []
   },
   "outputs": [],
   "source": [
    "from sklearn.model_selection import RandomizedSearchCV"
   ]
  },
  {
   "cell_type": "code",
   "execution_count": 18,
   "id": "2337c3a6",
   "metadata": {
    "execution": {
     "iopub.execute_input": "2022-08-16T02:15:17.090890Z",
     "iopub.status.busy": "2022-08-16T02:15:17.088905Z",
     "iopub.status.idle": "2022-08-16T02:15:36.115800Z",
     "shell.execute_reply": "2022-08-16T02:15:36.114539Z"
    },
    "papermill": {
     "duration": 19.038586,
     "end_time": "2022-08-16T02:15:36.118646",
     "exception": false,
     "start_time": "2022-08-16T02:15:17.080060",
     "status": "completed"
    },
    "tags": []
   },
   "outputs": [
    {
     "data": {
      "text/plain": [
       "RandomizedSearchCV(cv=5, estimator=RandomForestClassifier(),\n",
       "                   param_distributions=[{'max_features': [2, 4, 6, 8],\n",
       "                                         'n_estimators': [3, 10, 30]},\n",
       "                                        {'bootstrap': [False],\n",
       "                                         'max_features': [2, 3, 4],\n",
       "                                         'n_estimators': [3, 10]}],\n",
       "                   return_train_score=True, scoring='neg_mean_squared_error')"
      ]
     },
     "execution_count": 18,
     "metadata": {},
     "output_type": "execute_result"
    }
   ],
   "source": [
    "from sklearn.model_selection import RandomizedSearchCV\n",
    "\n",
    "param_grid = [\n",
    "    {'n_estimators' : [3, 10, 30], 'max_features' : [2, 4, 6, 8]},\n",
    "    {'bootstrap' : [False], 'n_estimators' : [3, 10], 'max_features' : [2, 3, 4]},\n",
    "    \n",
    "]\n",
    "\n",
    "forest_reg = RandomForestClassifier()\n",
    "\n",
    "random_search = RandomizedSearchCV(forest_reg, param_grid, cv = 5,\n",
    "                          scoring = 'neg_mean_squared_error',\n",
    "                          return_train_score = True)\n",
    "\n",
    "random_search.fit(X_train_transformed , train_y)"
   ]
  },
  {
   "cell_type": "code",
   "execution_count": 19,
   "id": "68f5cdce",
   "metadata": {
    "execution": {
     "iopub.execute_input": "2022-08-16T02:15:36.136034Z",
     "iopub.status.busy": "2022-08-16T02:15:36.135283Z",
     "iopub.status.idle": "2022-08-16T02:15:36.142569Z",
     "shell.execute_reply": "2022-08-16T02:15:36.141401Z"
    },
    "papermill": {
     "duration": 0.018494,
     "end_time": "2022-08-16T02:15:36.144891",
     "exception": false,
     "start_time": "2022-08-16T02:15:36.126397",
     "status": "completed"
    },
    "tags": []
   },
   "outputs": [
    {
     "data": {
      "text/plain": [
       "{'n_estimators': 10, 'max_features': 4, 'bootstrap': False}"
      ]
     },
     "execution_count": 19,
     "metadata": {},
     "output_type": "execute_result"
    }
   ],
   "source": [
    "random_search.best_params_"
   ]
  },
  {
   "cell_type": "code",
   "execution_count": 20,
   "id": "ab89d9f5",
   "metadata": {
    "execution": {
     "iopub.execute_input": "2022-08-16T02:15:36.162244Z",
     "iopub.status.busy": "2022-08-16T02:15:36.161806Z",
     "iopub.status.idle": "2022-08-16T02:15:36.170326Z",
     "shell.execute_reply": "2022-08-16T02:15:36.169148Z"
    },
    "papermill": {
     "duration": 0.020027,
     "end_time": "2022-08-16T02:15:36.172928",
     "exception": false,
     "start_time": "2022-08-16T02:15:36.152901",
     "status": "completed"
    },
    "tags": []
   },
   "outputs": [
    {
     "data": {
      "text/plain": [
       "RandomForestClassifier(bootstrap=False, max_features=4, n_estimators=10)"
      ]
     },
     "execution_count": 20,
     "metadata": {},
     "output_type": "execute_result"
    }
   ],
   "source": [
    "random_search.best_estimator_"
   ]
  },
  {
   "cell_type": "code",
   "execution_count": 21,
   "id": "b1cf8823",
   "metadata": {
    "execution": {
     "iopub.execute_input": "2022-08-16T02:15:36.190805Z",
     "iopub.status.busy": "2022-08-16T02:15:36.190333Z",
     "iopub.status.idle": "2022-08-16T02:15:36.196013Z",
     "shell.execute_reply": "2022-08-16T02:15:36.194831Z"
    },
    "papermill": {
     "duration": 0.018429,
     "end_time": "2022-08-16T02:15:36.199383",
     "exception": false,
     "start_time": "2022-08-16T02:15:36.180954",
     "status": "completed"
    },
    "tags": []
   },
   "outputs": [],
   "source": [
    "final_model = random_search.best_estimator_"
   ]
  },
  {
   "cell_type": "code",
   "execution_count": 22,
   "id": "ab41780d",
   "metadata": {
    "execution": {
     "iopub.execute_input": "2022-08-16T02:15:36.216516Z",
     "iopub.status.busy": "2022-08-16T02:15:36.216137Z",
     "iopub.status.idle": "2022-08-16T02:15:36.531748Z",
     "shell.execute_reply": "2022-08-16T02:15:36.529978Z"
    },
    "papermill": {
     "duration": 0.328262,
     "end_time": "2022-08-16T02:15:36.535350",
     "exception": false,
     "start_time": "2022-08-16T02:15:36.207088",
     "status": "completed"
    },
    "tags": []
   },
   "outputs": [
    {
     "data": {
      "text/plain": [
       "RandomForestClassifier(bootstrap=False, max_features=4, n_estimators=10)"
      ]
     },
     "execution_count": 22,
     "metadata": {},
     "output_type": "execute_result"
    }
   ],
   "source": [
    "final_model.fit(X_train_transformed, train_y)"
   ]
  },
  {
   "cell_type": "code",
   "execution_count": 23,
   "id": "de3bfd9c",
   "metadata": {
    "execution": {
     "iopub.execute_input": "2022-08-16T02:15:36.553984Z",
     "iopub.status.busy": "2022-08-16T02:15:36.552933Z",
     "iopub.status.idle": "2022-08-16T02:15:36.614009Z",
     "shell.execute_reply": "2022-08-16T02:15:36.612461Z"
    },
    "papermill": {
     "duration": 0.07359,
     "end_time": "2022-08-16T02:15:36.616955",
     "exception": false,
     "start_time": "2022-08-16T02:15:36.543365",
     "status": "completed"
    },
    "tags": []
   },
   "outputs": [],
   "source": [
    "predictions = final_model.predict(X_test_transformed)"
   ]
  },
  {
   "cell_type": "code",
   "execution_count": 24,
   "id": "bab25b46",
   "metadata": {
    "execution": {
     "iopub.execute_input": "2022-08-16T02:15:36.634707Z",
     "iopub.status.busy": "2022-08-16T02:15:36.634287Z",
     "iopub.status.idle": "2022-08-16T02:15:36.640178Z",
     "shell.execute_reply": "2022-08-16T02:15:36.638876Z"
    },
    "papermill": {
     "duration": 0.018048,
     "end_time": "2022-08-16T02:15:36.643005",
     "exception": false,
     "start_time": "2022-08-16T02:15:36.624957",
     "status": "completed"
    },
    "tags": []
   },
   "outputs": [],
   "source": [
    "from sklearn.metrics import accuracy_score"
   ]
  },
  {
   "cell_type": "code",
   "execution_count": 25,
   "id": "bc0e2d33",
   "metadata": {
    "execution": {
     "iopub.execute_input": "2022-08-16T02:15:36.661303Z",
     "iopub.status.busy": "2022-08-16T02:15:36.660904Z",
     "iopub.status.idle": "2022-08-16T02:15:36.671590Z",
     "shell.execute_reply": "2022-08-16T02:15:36.670373Z"
    },
    "papermill": {
     "duration": 0.023595,
     "end_time": "2022-08-16T02:15:36.674737",
     "exception": false,
     "start_time": "2022-08-16T02:15:36.651142",
     "status": "completed"
    },
    "tags": []
   },
   "outputs": [
    {
     "data": {
      "text/plain": [
       "0.9862068965517241"
      ]
     },
     "execution_count": 25,
     "metadata": {},
     "output_type": "execute_result"
    }
   ],
   "source": [
    "accuracy_score(predictions, test_y)"
   ]
  },
  {
   "cell_type": "code",
   "execution_count": null,
   "id": "a5cfaf3a",
   "metadata": {
    "papermill": {
     "duration": 0.007513,
     "end_time": "2022-08-16T02:15:36.690365",
     "exception": false,
     "start_time": "2022-08-16T02:15:36.682852",
     "status": "completed"
    },
    "tags": []
   },
   "outputs": [],
   "source": []
  },
  {
   "cell_type": "code",
   "execution_count": null,
   "id": "70743dea",
   "metadata": {
    "papermill": {
     "duration": 0.008471,
     "end_time": "2022-08-16T02:15:36.707642",
     "exception": false,
     "start_time": "2022-08-16T02:15:36.699171",
     "status": "completed"
    },
    "tags": []
   },
   "outputs": [],
   "source": []
  }
 ],
 "metadata": {
  "kernelspec": {
   "display_name": "Python 3",
   "language": "python",
   "name": "python3"
  },
  "language_info": {
   "codemirror_mode": {
    "name": "ipython",
    "version": 3
   },
   "file_extension": ".py",
   "mimetype": "text/x-python",
   "name": "python",
   "nbconvert_exporter": "python",
   "pygments_lexer": "ipython3",
   "version": "3.11.0"
  },
  "papermill": {
   "default_parameters": {},
   "duration": 76.112011,
   "end_time": "2022-08-16T02:15:37.940965",
   "environment_variables": {},
   "exception": null,
   "input_path": "__notebook__.ipynb",
   "output_path": "__notebook__.ipynb",
   "parameters": {},
   "start_time": "2022-08-16T02:14:21.828954",
   "version": "2.3.4"
  }
 },
 "nbformat": 4,
 "nbformat_minor": 5
}
